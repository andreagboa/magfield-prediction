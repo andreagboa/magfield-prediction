{
 "cells": [
  {
   "cell_type": "markdown",
   "metadata": {},
   "source": [
    "## Inpainting with trained Wasserstein-GAN"
   ]
  },
  {
   "cell_type": "code",
   "execution_count": 1,
   "metadata": {},
   "outputs": [
    {
     "name": "stderr",
     "output_type": "stream",
     "text": [
      "c:\\Users\\s174370\\AppData\\Local\\miniconda3\\envs\\dgm\\lib\\site-packages\\tqdm\\auto.py:22: TqdmWarning: IProgress not found. Please update jupyter and ipywidgets. See https://ipywidgets.readthedocs.io/en/stable/user_install.html\n",
      "  from .autonotebook import tqdm as notebook_tqdm\n"
     ]
    }
   ],
   "source": [
    "import numpy as np\n",
    "import torch\n",
    "import torch.nn as nn\n",
    "import h5py\n",
    "\n",
    "from utils.create_data import sample_check\n",
    "from utils.tools import random_bbox, mask_image, get_config\n",
    "from model.networks import Generator"
   ]
  },
  {
   "cell_type": "code",
   "execution_count": 2,
   "metadata": {},
   "outputs": [],
   "source": [
    "# Parameters\n",
    "img_idx = 0\n",
    "plt_scale = 0.1\n",
    "rng = np.random.default_rng(0)\n",
    "exp_path = 'C:/Users/s174370/Desktop/magfield-prediction/checkpoints/boundary_1_256/'\n",
    "# model = 'in_94_coarseG_l1'\n",
    "# model = 'in_94_l1'\n",
    "# model = 'in_94_lightweight'\n",
    "# model = 'in_div_curl_1_94_1' #does not work with this script\n",
    "model = 'in_94_sp'\n",
    "exp_path += model"
   ]
  },
  {
   "cell_type": "code",
   "execution_count": 3,
   "metadata": {},
   "outputs": [
    {
     "ename": "ValueError",
     "evalue": "5 indexing arguments for 4 dimensions",
     "output_type": "error",
     "traceback": [
      "\u001b[1;31m---------------------------------------------------------------------------\u001b[0m",
      "\u001b[1;31mValueError\u001b[0m                                Traceback (most recent call last)",
      "Cell \u001b[1;32mIn[3], line 4\u001b[0m\n\u001b[0;32m      1\u001b[0m \u001b[39m# file = h5py.File('data/bnd_256/magfield_256_large.h5')\u001b[39;00m\n\u001b[0;32m      2\u001b[0m file \u001b[39m=\u001b[39m h5py\u001b[39m.\u001b[39mFile(\u001b[39m'\u001b[39m\u001b[39mdata/magfield_symm_256.h5\u001b[39m\u001b[39m'\u001b[39m)\n\u001b[1;32m----> 4\u001b[0m \u001b[39mprint\u001b[39m(file[\u001b[39m'\u001b[39;49m\u001b[39mfield\u001b[39;49m\u001b[39m'\u001b[39;49m][img_idx,:,:,:,\u001b[39m1\u001b[39;49m]\u001b[39m.\u001b[39mshape)\n\u001b[0;32m      5\u001b[0m field \u001b[39m=\u001b[39m file[\u001b[39m'\u001b[39m\u001b[39mfield\u001b[39m\u001b[39m'\u001b[39m][img_idx,:,:,:,\u001b[39m1\u001b[39m]\n\u001b[0;32m      6\u001b[0m sample_check(field, v_max\u001b[39m=\u001b[39mplt_scale, filename \u001b[39m=\u001b[39m \u001b[39m'\u001b[39m\u001b[39morig_\u001b[39m\u001b[39m'\u001b[39m\u001b[39m+\u001b[39mmodel)\n",
      "File \u001b[1;32mh5py\\_objects.pyx:54\u001b[0m, in \u001b[0;36mh5py._objects.with_phil.wrapper\u001b[1;34m()\u001b[0m\n",
      "File \u001b[1;32mh5py\\_objects.pyx:55\u001b[0m, in \u001b[0;36mh5py._objects.with_phil.wrapper\u001b[1;34m()\u001b[0m\n",
      "File \u001b[1;32mc:\\Users\\s174370\\AppData\\Local\\miniconda3\\envs\\dgm\\lib\\site-packages\\h5py\\_hl\\dataset.py:741\u001b[0m, in \u001b[0;36mDataset.__getitem__\u001b[1;34m(self, args, new_dtype)\u001b[0m\n\u001b[0;32m    739\u001b[0m \u001b[39mif\u001b[39;00m \u001b[39mself\u001b[39m\u001b[39m.\u001b[39m_fast_read_ok \u001b[39mand\u001b[39;00m (new_dtype \u001b[39mis\u001b[39;00m \u001b[39mNone\u001b[39;00m):\n\u001b[0;32m    740\u001b[0m     \u001b[39mtry\u001b[39;00m:\n\u001b[1;32m--> 741\u001b[0m         \u001b[39mreturn\u001b[39;00m \u001b[39mself\u001b[39;49m\u001b[39m.\u001b[39;49m_fast_reader\u001b[39m.\u001b[39;49mread(args)\n\u001b[0;32m    742\u001b[0m     \u001b[39mexcept\u001b[39;00m \u001b[39mTypeError\u001b[39;00m:\n\u001b[0;32m    743\u001b[0m         \u001b[39mpass\u001b[39;00m  \u001b[39m# Fall back to Python read pathway below\u001b[39;00m\n",
      "File \u001b[1;32mh5py\\_selector.pyx:355\u001b[0m, in \u001b[0;36mh5py._selector.Reader.read\u001b[1;34m()\u001b[0m\n",
      "File \u001b[1;32mh5py\\_selector.pyx:107\u001b[0m, in \u001b[0;36mh5py._selector.Selector.apply_args\u001b[1;34m()\u001b[0m\n",
      "\u001b[1;31mValueError\u001b[0m: 5 indexing arguments for 4 dimensions"
     ]
    }
   ],
   "source": [
    "# file = h5py.File('data/bnd_256/magfield_256_large.h5')\n",
    "file = h5py.File('data/magfield_symm_256.h5')\n",
    "\n",
    "print(file['field'][img_idx,:,:,:].shape)\n",
    "field = file['field'][img_idx,:,:,:]\n",
    "sample_check(field, v_max=plt_scale, filename = 'orig_'+model)"
   ]
  },
  {
   "cell_type": "code",
   "execution_count": null,
   "metadata": {},
   "outputs": [],
   "source": [
    "config = get_config(exp_path + '/config.yaml')\n",
    "bboxes = random_bbox(config, rng=rng)\n",
    "x, mask, orig = mask_image(np.array([field]), bboxes, config, bnd=config['boundary'])\n",
    "print(x.shape)\n",
    "sample_check(x[0], v_max=plt_scale, filename = 'boundary_'+model)\n"
   ]
  },
  {
   "cell_type": "code",
   "execution_count": null,
   "metadata": {},
   "outputs": [],
   "source": [
    "last_model_name = exp_path + '/gen_00500000.pt'\n",
    "# Generator(config, coarse_G, use_cuda, device_ids)\n",
    "netG = Generator(config['netG'], config['coarse_G'], True, [0])\n",
    "netG.load_state_dict(torch.load(last_model_name))\n",
    "netG = nn.parallel.DataParallel(netG, device_ids=[0])\n",
    "corrupt_t = torch.from_numpy(x[0].astype('float32')).cuda().unsqueeze(0)\n",
    "mask_t = torch.from_numpy(mask[0].astype('float32')).cuda().unsqueeze(0)\n",
    "\n",
    "# Inference\n",
    "_, out = netG(corrupt_t, mask_t)\n",
    "\n",
    "sample_check(orig[0], v_max=plt_scale, filename = 'orig_box_'+model)"
   ]
  },
  {
   "cell_type": "code",
   "execution_count": null,
   "metadata": {},
   "outputs": [],
   "source": [
    "out_np = out.squeeze(0).cpu().data.numpy()\n",
    "sample_check(out_np, v_max=plt_scale, filename='wgan_'+model)"
   ]
  },
  {
   "cell_type": "code",
   "execution_count": null,
   "metadata": {},
   "outputs": [],
   "source": [
    "diff = orig - out_np\n",
    "mse_final = np.mean(diff**2)\n",
    "psnr = 20 * np.log10(np.max(orig) / np.sqrt(mse_final))\n",
    "mape = 100*(np.abs(np.mean(diff)/np.mean(orig)))\n",
    "\n",
    "print(f\"Recon loss: {np.mean(np.abs(diff)):.4f}\")\n",
    "print(f\"PSNR: {psnr:.4f} dB\")\n",
    "print(f\"MAPE: {mape:.4f} %\")\n"
   ]
  },
  {
   "cell_type": "code",
   "execution_count": null,
   "metadata": {},
   "outputs": [],
   "source": [
    "out_stack = torch.from_numpy(out_np)[None, :]\n",
    "\n",
    "# Div\n",
    "Hx_x = torch.gradient(out_stack[0,0], dim=1, edge_order=2)[0]\n",
    "Hy_y = torch.gradient(out_stack[0,1], dim=0, edge_order=2)[0]\n",
    "if len(out_stack.size()[1:]) > 3 : \n",
    "    Hz_z = torch.gradient(out_stack[0,2], dim=2, edge_order=2)[0]\n",
    "    div_mag = torch.stack([Hx_x, Hy_y, Hz_z], dim=0)[:,:,:,1]\n",
    "else:\n",
    "    div_mag = torch.stack([Hx_x, Hy_y], dim=0)\n",
    "div = torch.mean(torch.abs(div_mag.sum(dim=0)))\n",
    "\n",
    "#Curl\n",
    "Hx_y = torch.gradient(out_stack[0,0], dim=0, edge_order=2)[0]\n",
    "Hy_x = torch.gradient(out_stack[0,1], dim=1, edge_order=2)[0]\n",
    "if len(out_stack.size()[1:]) > 3 :\n",
    "    Hx_z = torch.gradient(out_stack[0,0], dim=2, edge_order=2)[0]\n",
    "    Hy_z = torch.gradient(out_stack[0,1], dim=2, edge_order=2)[0]\n",
    "    Hz_x = torch.gradient(out_stack[0,2], dim=1, edge_order=2)[0]\n",
    "    Hz_y = torch.gradient(out_stack[0,2], dim=0, edge_order=2)[0]\n",
    "    curl_vec = torch.stack([Hz_y - Hy_z, Hx_z - Hz_x, Hy_x - Hx_y], dim=0)[:,:,:,1]\n",
    "    curl_mag = curl_vec.square().sum(dim=0)\n",
    "else:\n",
    "    curl_mag = (Hy_x - Hx_y).square()\n",
    "curl = torch.mean(curl_mag)\n",
    "\n",
    "print(f\"divergence: {div:.5f}\")\n",
    "print(f\"curl: {curl:.5f}\")"
   ]
  },
  {
   "cell_type": "code",
   "execution_count": null,
   "metadata": {},
   "outputs": [],
   "source": []
  }
 ],
 "metadata": {
  "kernelspec": {
   "display_name": "dgm",
   "language": "python",
   "name": "python3"
  },
  "language_info": {
   "codemirror_mode": {
    "name": "ipython",
    "version": 3
   },
   "file_extension": ".py",
   "mimetype": "text/x-python",
   "name": "python",
   "nbconvert_exporter": "python",
   "pygments_lexer": "ipython3",
   "version": "3.9.16"
  },
  "orig_nbformat": 4,
  "vscode": {
   "interpreter": {
    "hash": "cdff0a645cc01151de48676e34084258beee4c596e5d3c3aed777ef58410e182"
   }
  }
 },
 "nbformat": 4,
 "nbformat_minor": 2
}
