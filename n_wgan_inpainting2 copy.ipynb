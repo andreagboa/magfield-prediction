{
 "cells": [
  {
   "cell_type": "markdown",
   "metadata": {},
   "source": [
    "## Inpainting with trained Wasserstein-GAN"
   ]
  },
  {
   "cell_type": "code",
   "execution_count": 1,
   "metadata": {},
   "outputs": [],
   "source": [
    "import numpy as np\n",
    "import torch\n",
    "import torch.nn as nn\n",
    "import h5py\n",
    "from pathlib import Path\n",
    "\n",
    "from utils.create_data import sample_check\n",
    "from utils.tools import random_bbox, mask_image, get_config, random_bnd\n",
    "from model.networks import Generator"
   ]
  },
  {
   "cell_type": "code",
   "execution_count": 2,
   "metadata": {},
   "outputs": [
    {
     "name": "stdout",
     "output_type": "stream",
     "text": [
      "C:\\Users\\s174370\\Desktop\\magfield-prediction\\checkpoints\\boundary_1_256\\in_94_l1\n"
     ]
    }
   ],
   "source": [
    "# Parameters\n",
    "img_idx = 0\n",
    "plt_scale = 0.1\n",
    "perc = 50\n",
    "rng = np.random.default_rng(0)\n",
    "# path_orig = Path(__file__).parent.resolve() / 'checkpoints' / 'boundary_1_256'\n",
    "# exp_path = r'C:\\Users\\s174370\\magfield-prediction\\checkpoints\\boundary_1_256'\n",
    "exp_path = r'C:\\Users\\s174370\\Desktop\\magfield-prediction\\checkpoints\\boundary_1_256'\n",
    "# model = 'in_94_coarseG_l1'\n",
    "model = 'in_94_l1'\n",
    "exp_path = Path(exp_path,model)\n",
    "# model = 'in_94_lightweight'\n",
    "# model = 'in_94_coarseG_l1False' \n",
    "# exp_path += model\n",
    "# exp_path = Path(path_orig, model)\n",
    "print(exp_path)"
   ]
  },
  {
   "cell_type": "code",
   "execution_count": 3,
   "metadata": {},
   "outputs": [
    {
     "ename": "FileNotFoundError",
     "evalue": "[Errno 2] Unable to open file (unable to open file: name = 'data/bnd_256/magfield_256_large.h5', errno = 2, error message = 'No such file or directory', flags = 0, o_flags = 0)",
     "output_type": "error",
     "traceback": [
      "\u001b[1;31m---------------------------------------------------------------------------\u001b[0m",
      "\u001b[1;31mFileNotFoundError\u001b[0m                         Traceback (most recent call last)",
      "Cell \u001b[1;32mIn[3], line 1\u001b[0m\n\u001b[1;32m----> 1\u001b[0m file \u001b[39m=\u001b[39m h5py\u001b[39m.\u001b[39;49mFile(\u001b[39m'\u001b[39;49m\u001b[39mdata/bnd_256/magfield_256_large.h5\u001b[39;49m\u001b[39m'\u001b[39;49m) \n\u001b[0;32m      2\u001b[0m \u001b[39mprint\u001b[39m(file[\u001b[39m'\u001b[39m\u001b[39mfield\u001b[39m\u001b[39m'\u001b[39m][img_idx,:,:,:,\u001b[39m1\u001b[39m]\u001b[39m.\u001b[39mshape)\n\u001b[0;32m      3\u001b[0m field \u001b[39m=\u001b[39m file[\u001b[39m'\u001b[39m\u001b[39mfield\u001b[39m\u001b[39m'\u001b[39m][img_idx,:,:,:,\u001b[39m1\u001b[39m]\n",
      "File \u001b[1;32mc:\\Users\\s174370\\AppData\\Local\\miniconda3\\envs\\dgm\\lib\\site-packages\\h5py\\_hl\\files.py:533\u001b[0m, in \u001b[0;36mFile.__init__\u001b[1;34m(self, name, mode, driver, libver, userblock_size, swmr, rdcc_nslots, rdcc_nbytes, rdcc_w0, track_order, fs_strategy, fs_persist, fs_threshold, fs_page_size, page_buf_size, min_meta_keep, min_raw_keep, locking, alignment_threshold, alignment_interval, **kwds)\u001b[0m\n\u001b[0;32m    525\u001b[0m     fapl \u001b[39m=\u001b[39m make_fapl(driver, libver, rdcc_nslots, rdcc_nbytes, rdcc_w0,\n\u001b[0;32m    526\u001b[0m                      locking, page_buf_size, min_meta_keep, min_raw_keep,\n\u001b[0;32m    527\u001b[0m                      alignment_threshold\u001b[39m=\u001b[39malignment_threshold,\n\u001b[0;32m    528\u001b[0m                      alignment_interval\u001b[39m=\u001b[39malignment_interval,\n\u001b[0;32m    529\u001b[0m                      \u001b[39m*\u001b[39m\u001b[39m*\u001b[39mkwds)\n\u001b[0;32m    530\u001b[0m     fcpl \u001b[39m=\u001b[39m make_fcpl(track_order\u001b[39m=\u001b[39mtrack_order, fs_strategy\u001b[39m=\u001b[39mfs_strategy,\n\u001b[0;32m    531\u001b[0m                      fs_persist\u001b[39m=\u001b[39mfs_persist, fs_threshold\u001b[39m=\u001b[39mfs_threshold,\n\u001b[0;32m    532\u001b[0m                      fs_page_size\u001b[39m=\u001b[39mfs_page_size)\n\u001b[1;32m--> 533\u001b[0m     fid \u001b[39m=\u001b[39m make_fid(name, mode, userblock_size, fapl, fcpl, swmr\u001b[39m=\u001b[39;49mswmr)\n\u001b[0;32m    535\u001b[0m \u001b[39mif\u001b[39;00m \u001b[39misinstance\u001b[39m(libver, \u001b[39mtuple\u001b[39m):\n\u001b[0;32m    536\u001b[0m     \u001b[39mself\u001b[39m\u001b[39m.\u001b[39m_libver \u001b[39m=\u001b[39m libver\n",
      "File \u001b[1;32mc:\\Users\\s174370\\AppData\\Local\\miniconda3\\envs\\dgm\\lib\\site-packages\\h5py\\_hl\\files.py:226\u001b[0m, in \u001b[0;36mmake_fid\u001b[1;34m(name, mode, userblock_size, fapl, fcpl, swmr)\u001b[0m\n\u001b[0;32m    224\u001b[0m     \u001b[39mif\u001b[39;00m swmr \u001b[39mand\u001b[39;00m swmr_support:\n\u001b[0;32m    225\u001b[0m         flags \u001b[39m|\u001b[39m\u001b[39m=\u001b[39m h5f\u001b[39m.\u001b[39mACC_SWMR_READ\n\u001b[1;32m--> 226\u001b[0m     fid \u001b[39m=\u001b[39m h5f\u001b[39m.\u001b[39;49mopen(name, flags, fapl\u001b[39m=\u001b[39;49mfapl)\n\u001b[0;32m    227\u001b[0m \u001b[39melif\u001b[39;00m mode \u001b[39m==\u001b[39m \u001b[39m'\u001b[39m\u001b[39mr+\u001b[39m\u001b[39m'\u001b[39m:\n\u001b[0;32m    228\u001b[0m     fid \u001b[39m=\u001b[39m h5f\u001b[39m.\u001b[39mopen(name, h5f\u001b[39m.\u001b[39mACC_RDWR, fapl\u001b[39m=\u001b[39mfapl)\n",
      "File \u001b[1;32mh5py\\_objects.pyx:54\u001b[0m, in \u001b[0;36mh5py._objects.with_phil.wrapper\u001b[1;34m()\u001b[0m\n",
      "File \u001b[1;32mh5py\\_objects.pyx:55\u001b[0m, in \u001b[0;36mh5py._objects.with_phil.wrapper\u001b[1;34m()\u001b[0m\n",
      "File \u001b[1;32mh5py\\h5f.pyx:106\u001b[0m, in \u001b[0;36mh5py.h5f.open\u001b[1;34m()\u001b[0m\n",
      "\u001b[1;31mFileNotFoundError\u001b[0m: [Errno 2] Unable to open file (unable to open file: name = 'data/bnd_256/magfield_256_large.h5', errno = 2, error message = 'No such file or directory', flags = 0, o_flags = 0)"
     ]
    }
   ],
   "source": [
    "file = h5py.File('data/magfield_256_large.h5') \n",
    "print(file['field'][img_idx,:,:,:,1].shape)\n",
    "field = file['field'][img_idx,:,:,:,1]\n",
    "sample_check(field, v_max=plt_scale, filename = 'orig_'+model)"
   ]
  },
  {
   "cell_type": "code",
   "execution_count": null,
   "metadata": {},
   "outputs": [],
   "source": [
    "print(Path(exp_path,'config.yaml'))\n",
    "# config = get_config(Path(exp_path,'config.yaml'))\n",
    "config = get_config(r'C:\\Users\\s174370\\Desktop\\magfield-prediction\\checkpoints\\boundary_1_256\\in_94_l1\\config.yaml')\n",
    "# bboxes = random_bbox(config, rng=rng)\n",
    "bbox_list = [[(75, 10, 94, 94)] for _ in range(config['batch_size'])]\n",
    "bboxes = torch.tensor(bbox_list, dtype=torch.int64)\n",
    "print(bboxes.shape)\n",
    "x, mask, orig = mask_image(np.array([field]), bboxes, config, bnd=config['boundary'], perc= perc)\n",
    "print(np.sum(mask[:,:,-1]==1))\n",
    "# print(x.shape)\n",
    "# mask = random_bnd(mask, perc)\n",
    "# print(np.sum(mask[:,:,-1]==1))\n",
    "\n",
    "sample_check(orig[0], v_max=plt_scale, filename = 'orig_box_'+model)\n"
   ]
  },
  {
   "cell_type": "code",
   "execution_count": null,
   "metadata": {},
   "outputs": [],
   "source": [
    "sample_check(x[0], v_max=plt_scale, filename = 'boundary_'+model+'_'+str(perc)+'%')\n"
   ]
  },
  {
   "cell_type": "code",
   "execution_count": null,
   "metadata": {},
   "outputs": [],
   "source": [
    "# last_model_name = exp_path + '/gen_00600000.pt'\n",
    "last_model_name = Path(exp_path,'gen_00600000.pt')\n",
    "# Generator(config, coarse_G, use_cuda, device_ids)\n",
    "netG = Generator(config['netG'], config['coarse_G'], True, [0])\n",
    "netG.load_state_dict(torch.load(last_model_name))\n",
    "netG = nn.parallel.DataParallel(netG, device_ids=[0])\n",
    "corrupt_t = torch.from_numpy(x[0].astype('float32')).cuda().unsqueeze(0)\n",
    "mask_t = torch.from_numpy(mask[0].astype('float32')).cuda().unsqueeze(0)\n",
    "\n",
    "# Inference\n",
    "_, out = netG(corrupt_t, mask_t)\n",
    "\n"
   ]
  },
  {
   "cell_type": "code",
   "execution_count": null,
   "metadata": {},
   "outputs": [],
   "source": [
    "out_np = out.squeeze(0).cpu().data.numpy()\n",
    "sample_check(out_np, v_max=plt_scale, filename='wgan_'+model)"
   ]
  },
  {
   "cell_type": "code",
   "execution_count": null,
   "metadata": {},
   "outputs": [],
   "source": [
    "diff = orig - out_np\n",
    "mse_final = np.mean(diff**2)\n",
    "psnr = 20 * np.log10(np.max(orig) / np.sqrt(mse_final))\n",
    "mape = 100*(np.abs(np.mean(diff)/np.mean(orig)))\n",
    "\n",
    "print(f\"Recon loss: {np.mean(np.abs(diff)):.4f}\")\n",
    "print(f\"PSNR: {psnr:.4f} dB\")\n",
    "print(f\"MAPE: {mape:.4f} %\")\n"
   ]
  },
  {
   "cell_type": "code",
   "execution_count": null,
   "metadata": {},
   "outputs": [],
   "source": [
    "out_stack = torch.from_numpy(out_np)[None, :]\n",
    "\n",
    "# Div\n",
    "Hx_x = torch.gradient(out_stack[0,0], dim=1, edge_order=2)[0]\n",
    "Hy_y = torch.gradient(out_stack[0,1], dim=0, edge_order=2)[0]\n",
    "if len(out_stack.size()[1:]) > 3 : \n",
    "    Hz_z = torch.gradient(out_stack[0,2], dim=2, edge_order=2)[0]\n",
    "    div_mag = torch.stack([Hx_x, Hy_y, Hz_z], dim=0)[:,:,:,1]\n",
    "else:\n",
    "    div_mag = torch.stack([Hx_x, Hy_y], dim=0)\n",
    "div = torch.mean(torch.abs(div_mag.sum(dim=0)))\n",
    "\n",
    "#Curl\n",
    "Hx_y = torch.gradient(out_stack[0,0], dim=0, edge_order=2)[0]\n",
    "Hy_x = torch.gradient(out_stack[0,1], dim=1, edge_order=2)[0]\n",
    "if len(out_stack.size()[1:]) > 3 :\n",
    "    Hx_z = torch.gradient(out_stack[0,0], dim=2, edge_order=2)[0]\n",
    "    Hy_z = torch.gradient(out_stack[0,1], dim=2, edge_order=2)[0]\n",
    "    Hz_x = torch.gradient(out_stack[0,2], dim=1, edge_order=2)[0]\n",
    "    Hz_y = torch.gradient(out_stack[0,2], dim=0, edge_order=2)[0]\n",
    "    curl_vec = torch.stack([Hz_y - Hy_z, Hx_z - Hz_x, Hy_x - Hx_y], dim=0)[:,:,:,1]\n",
    "    curl_mag = curl_vec.square().sum(dim=0)\n",
    "else:\n",
    "    curl_mag = (Hy_x - Hx_y).square()\n",
    "curl = torch.mean(curl_mag)\n",
    "\n",
    "print(f\"divergence: {div*1e3:.5f} [mT/px]\")\n",
    "print(f\"curl: {curl*1e6:.5f} [\\u03BC T/px]\")"
   ]
  },
  {
   "cell_type": "code",
   "execution_count": null,
   "metadata": {},
   "outputs": [],
   "source": []
  }
 ],
 "metadata": {
  "kernelspec": {
   "display_name": "dgm",
   "language": "python",
   "name": "python3"
  },
  "language_info": {
   "codemirror_mode": {
    "name": "ipython",
    "version": 3
   },
   "file_extension": ".py",
   "mimetype": "text/x-python",
   "name": "python",
   "nbconvert_exporter": "python",
   "pygments_lexer": "ipython3",
   "version": "3.10.9"
  },
  "orig_nbformat": 4,
  "vscode": {
   "interpreter": {
    "hash": "cdff0a645cc01151de48676e34084258beee4c596e5d3c3aed777ef58410e182"
   }
  }
 },
 "nbformat": 4,
 "nbformat_minor": 2
}
