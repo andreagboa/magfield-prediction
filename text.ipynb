{
 "cells": [
  {
   "cell_type": "code",
   "execution_count": 4,
   "metadata": {},
   "outputs": [],
   "source": [
    "import numpy as np\n",
    "import h5py\n",
    "import torch\n",
    "\n",
    "path = r'C:\\Users\\s174370\\Desktop\\magfield-prediction\\data\\bnd_256\\magfield_256_large.h5'\n",
    "imgh5 = h5py.File(path)"
   ]
  },
  {
   "cell_type": "code",
   "execution_count": 9,
   "metadata": {},
   "outputs": [
    {
     "data": {
      "text/plain": [
       "numpy.ndarray"
      ]
     },
     "execution_count": 9,
     "metadata": {},
     "output_type": "execute_result"
    }
   ],
   "source": [
    "img = imgh5['field']\n",
    "\n",
    "np.shape(img[0])\n",
    "\n",
    "type(img[0])"
   ]
  }
 ],
 "metadata": {
  "kernelspec": {
   "display_name": "dgm",
   "language": "python",
   "name": "python3"
  },
  "language_info": {
   "codemirror_mode": {
    "name": "ipython",
    "version": 3
   },
   "file_extension": ".py",
   "mimetype": "text/x-python",
   "name": "python",
   "nbconvert_exporter": "python",
   "pygments_lexer": "ipython3",
   "version": "3.9.16"
  },
  "orig_nbformat": 4,
  "vscode": {
   "interpreter": {
    "hash": "cdff0a645cc01151de48676e34084258beee4c596e5d3c3aed777ef58410e182"
   }
  }
 },
 "nbformat": 4,
 "nbformat_minor": 2
}
