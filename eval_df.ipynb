{
 "cells": [
  {
   "attachments": {},
   "cell_type": "markdown",
   "metadata": {},
   "source": [
    "## Evaluating pandas dataframes in test folder of experiment"
   ]
  },
  {
   "cell_type": "code",
   "execution_count": 2,
   "metadata": {},
   "outputs": [
    {
     "name": "stdout",
     "output_type": "stream",
     "text": [
      "Summary: MAE: 0.002969 | [%]: 2.26 | Div: 0.000173 | Curl: 0.000001\n"
     ]
    }
   ],
   "source": [
    "import os\n",
    "import pandas as pd\n",
    "\n",
    "exp = 'boundary_1_256'\n",
    "name = 'in_94_l1'\n",
    "timestamp = '1_94_230526_151836_wgan'\n",
    "\n",
    "output_path = os.path.abspath('') + f'/checkpoints/{exp}/{name}/test'\n",
    "df = pd.read_pickle(f'{output_path}/{timestamp}.p')\n",
    "\n",
    "print(f'Summary: MAE: {df[\"loss\"].mean():.6f} | [%]: {df[\"loss_pct\"].mean()*100:.2f}' + \\\n",
    "        f' | Div: {df[\"div\"].mean():.6f} | Curl: {df[\"curl\"].mean():.6f}')"
   ]
  },
  {
   "cell_type": "code",
   "execution_count": null,
   "metadata": {},
   "outputs": [],
   "source": []
  }
 ],
 "metadata": {
  "kernelspec": {
   "display_name": "dgm",
   "language": "python",
   "name": "python3"
  },
  "language_info": {
   "codemirror_mode": {
    "name": "ipython",
    "version": 3
   },
   "file_extension": ".py",
   "mimetype": "text/x-python",
   "name": "python",
   "nbconvert_exporter": "python",
   "pygments_lexer": "ipython3",
   "version": "3.9.16"
  },
  "orig_nbformat": 4,
  "vscode": {
   "interpreter": {
    "hash": "cdff0a645cc01151de48676e34084258beee4c596e5d3c3aed777ef58410e182"
   }
  }
 },
 "nbformat": 4,
 "nbformat_minor": 2
}
