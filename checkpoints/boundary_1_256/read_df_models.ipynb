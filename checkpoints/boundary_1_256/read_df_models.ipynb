{
 "cells": [
  {
   "cell_type": "code",
   "execution_count": 7,
   "metadata": {},
   "outputs": [],
   "source": [
    "import pandas as pd\n",
    "import numpy as np\n",
    "import matplotlib.pyplot as plt\n",
    "import matplotlib.colors as colors\n",
    "import h5py\n",
    "import pickle\n",
    "\n",
    "from pathlib import Path\n",
    "\n",
    "import datetime"
   ]
  },
  {
   "cell_type": "code",
   "execution_count": 8,
   "metadata": {},
   "outputs": [
    {
     "name": "stdout",
     "output_type": "stream",
     "text": [
      "10\n",
      "MAE: 9.928 $\\pm$ 5.977\n",
      "[%]: 91.729 $\\pm$ 10.380\n",
      "Div: 2.845 $\\pm$ 0.687\n",
      "Curl: 6.063 $\\pm$ 2.508\n"
     ]
    }
   ],
   "source": [
    "df = pd.read_pickle(f'in_94_coarseG_l1_230609_170430.p')\n",
    "\n",
    "print('CoarseG, l1')\n",
    "print(f'MAE: {df[\"MSE\"][0].mean():.3f}' + ' $\\pm$ '+f'{df[\"MSE\"][0].std():.3f}')\n",
    "print(f'[%]: {(df[\"MAPE\"][0]).mean():.3f}' + ' $\\pm$ '+f'{df[\"MAPE\"][0].std():.3f}')\n",
    "print(f'Div: {df[\"div\"][0].mean():.3f}' + ' $\\pm$ '+f'{df[\"div\"][0].std():.3f}')\n",
    "print(f'Curl: {df[\"curl\"][0].mean():.3f}' + ' $\\pm$ '+f'{df[\"curl\"][0].std():.3f}')"
   ]
  },
  {
   "cell_type": "code",
   "execution_count": 9,
   "metadata": {},
   "outputs": [
    {
     "name": "stdout",
     "output_type": "stream",
     "text": [
      "25\n",
      "MSE: 8.459 $\\pm$ 5.344\n",
      "[%]: 79.464 $\\pm$ 10.961\n",
      "Div: 4.239 $\\pm$ 1.236\n",
      "Curl: 13.075 $\\pm$ 6.301\n"
     ]
    }
   ],
   "source": [
    "df = pd.read_pickle(f'in_94_coarseG_l1False_230609_170444.p')\n",
    "\n",
    "print('CoarseG, no l1')\n",
    "print(f'MSE: {df[\"MSE\"][0].mean():.3f}' + ' $\\pm$ '+f'{df[\"MSE\"][0].std():.3f}')\n",
    "print(f'[%]: {(df[\"MAPE\"][0]).mean():.3f}' + ' $\\pm$ '+f'{df[\"MAPE\"][0].std():.3f}')\n",
    "print(f'Div: {df[\"div\"][0].mean():.3f}' + ' $\\pm$ '+f'{df[\"div\"][0].std():.3f}')\n",
    "print(f'Curl: {df[\"curl\"][0].mean():.3f}' + ' $\\pm$ '+f'{df[\"curl\"][0].std():.3f}')"
   ]
  },
  {
   "cell_type": "code",
   "execution_count": 10,
   "metadata": {},
   "outputs": [
    {
     "name": "stdout",
     "output_type": "stream",
     "text": [
      "50\n",
      "MAE: 4.069 $\\pm$ 2.408\n",
      "[%]: 60.034 $\\pm$ 9.605\n",
      "Div: 4.751 $\\pm$ 1.453\n",
      "Curl: 16.809 $\\pm$ 10.313\n"
     ]
    }
   ],
   "source": [
    "df = pd.read_pickle(f'in_94_l1_230609_170453.p')\n",
    "\n",
    "print('No coarseG, yes l1')\n",
    "print(f'MAE: {df[\"MSE\"][0].mean():.3f}' + ' $\\pm$ '+f'{df[\"MSE\"][0].std():.3f}')\n",
    "print(f'[%]: {(df[\"MAPE\"][0]).mean():.3f}' + ' $\\pm$ '+f'{df[\"MAPE\"][0].std():.3f}')\n",
    "print(f'Div: {df[\"div\"][0].mean():.3f}' + ' $\\pm$ '+f'{df[\"div\"][0].std():.3f}')\n",
    "print(f'Curl: {df[\"curl\"][0].mean():.3f}' + ' $\\pm$ '+f'{df[\"curl\"][0].std():.3f}')"
   ]
  },
  {
   "cell_type": "code",
   "execution_count": 11,
   "metadata": {},
   "outputs": [
    {
     "name": "stdout",
     "output_type": "stream",
     "text": [
      "75\n",
      "MAE: 1.809 $\\pm$ 1.028\n",
      "[%]: 37.576 $\\pm$ 8.925\n",
      "Div: 4.598 $\\pm$ 1.543\n",
      "Curl: 14.962 $\\pm$ 9.443\n"
     ]
    }
   ],
   "source": [
    "df = pd.read_pickle(f'in_94_lightweight_230609_170501.p')\n",
    "\n",
    "print('No coraseG, no l1')\n",
    "print(f'MAE: {df[\"MSE\"][0].mean():.3f}' + ' $\\pm$ '+f'{df[\"MSE\"][0].std():.3f}')\n",
    "print(f'[%]: {(df[\"MAPE\"][0]).mean():.3f}' + ' $\\pm$ '+f'{df[\"MAPE\"][0].std():.3f}')\n",
    "print(f'Div: {df[\"div\"][0].mean():.3f}' + ' $\\pm$ '+f'{df[\"div\"][0].std():.3f}')\n",
    "print(f'Curl: {df[\"curl\"][0].mean():.3f}' + ' $\\pm$ '+f'{df[\"curl\"][0].std():.3f}')"
   ]
  },
  {
   "cell_type": "code",
   "execution_count": 12,
   "metadata": {},
   "outputs": [
    {
     "name": "stdout",
     "output_type": "stream",
     "text": [
      "100\n",
      "MAE: 0.063 $\\pm$ 0.130\n",
      "[%]: 4.888 $\\pm$ 3.915\n",
      "Div: 2.232 $\\pm$ 1.170\n",
      "Curl: 2.714 $\\pm$ 2.201\n"
     ]
    }
   ],
   "source": [
    "df = pd.read_pickle(f'in_94_l1_230609_163801_100.p')\n",
    "\n",
    "print('100')\n",
    "print(f'MAE: {df[\"MSE\"][0].mean():.3f}' + ' $\\pm$ '+f'{df[\"MSE\"][0].std():.3f}')\n",
    "print(f'[%]: {(df[\"MAPE\"][0]).mean():.3f}' + ' $\\pm$ '+f'{df[\"MAPE\"][0].std():.3f}')\n",
    "print(f'Div: {df[\"div\"][0].mean():.3f}' + ' $\\pm$ '+f'{df[\"div\"][0].std():.3f}')\n",
    "print(f'Curl: {df[\"curl\"][0].mean():.3f}' + ' $\\pm$ '+f'{df[\"curl\"][0].std():.3f}')"
   ]
  },
  {
   "cell_type": "code",
   "execution_count": null,
   "metadata": {},
   "outputs": [],
   "source": []
  }
 ],
 "metadata": {
  "kernelspec": {
   "display_name": "dgm",
   "language": "python",
   "name": "python3"
  },
  "language_info": {
   "codemirror_mode": {
    "name": "ipython",
    "version": 3
   },
   "file_extension": ".py",
   "mimetype": "text/x-python",
   "name": "python",
   "nbconvert_exporter": "python",
   "pygments_lexer": "ipython3",
   "version": "3.10.9"
  },
  "orig_nbformat": 4
 },
 "nbformat": 4,
 "nbformat_minor": 2
}
