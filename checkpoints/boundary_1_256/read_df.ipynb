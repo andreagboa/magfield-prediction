{
 "cells": [
  {
   "cell_type": "code",
   "execution_count": 1,
   "metadata": {},
   "outputs": [],
   "source": [
    "import pandas as pd\n",
    "import numpy as np\n",
    "import matplotlib.pyplot as plt\n",
    "import matplotlib.colors as colors\n",
    "import h5py\n",
    "import pickle\n",
    "\n",
    "from pathlib import Path\n",
    "\n",
    "import datetime"
   ]
  },
  {
   "cell_type": "code",
   "execution_count": 12,
   "metadata": {},
   "outputs": [
    {
     "name": "stdout",
     "output_type": "stream",
     "text": [
      "Linear\n",
      "MSE: 13.454998 $\\pm$ 9.121978\n",
      "[%]: 99.415396 $\\pm$ 0.07132802301079394\n",
      "Div: 1.726474 $\\pm$ 1.128007480972781\n",
      "Curl: 0.969082 $\\pm$ 1.298543820500393\n"
     ]
    }
   ],
   "source": [
    "df = pd.read_pickle(f'linear_230612_120921_100.p')\n",
    "\n",
    "print('Linear')\n",
    "# print(f'MAE: {df[\"MAE\"].mean()*1e3:.6f}' + ' $\\pm$ '+f'{df[\"MAE\"].std()*1e3:.6f}')\n",
    "print(f'MSE: {df[\"MSE\"][0].mean():.6f}' + ' $\\pm$ '+f'{df[\"MSE\"][0].std():.6f}')\n",
    "print(f'[%]: {df[\"MAPE\"][0].mean():.6f}' + ' $\\pm$ '+f'{df[\"MAPE\"][0].std()}')\n",
    "print(f'Div: {df[\"div\"][0].mean():.6f}' + ' $\\pm$ '+f'{df[\"div\"][0].std()}')\n",
    "print(f'Curl: {df[\"curl\"][0].mean():.6f}' + ' $\\pm$ '+f'{df[\"curl\"][0].std()}')"
   ]
  },
  {
   "cell_type": "code",
   "execution_count": 10,
   "metadata": {},
   "outputs": [
    {
     "data": {
      "text/plain": [
       "array([17.77493632, 12.27954801, 12.23544635, 12.5768667 ,  8.59367169,\n",
       "       16.02913687,  3.17386072,  8.20374759,  6.99880445, 14.32464103,\n",
       "       23.55845859, 13.58024225,  1.08037615, 11.67836582, 16.57612984,\n",
       "        7.48792894,  8.43747141, 13.60450051, 11.73578508,  9.94893159,\n",
       "       18.77909238, 15.8478488 ,  6.77147221,  9.33996963,  5.88830754,\n",
       "       17.69825811, 17.17700754, 26.01591223, 14.1215413 ,  3.08807816,\n",
       "        5.92810612, 24.13685393, 20.87204735,  3.80962738, 21.5970144 ,\n",
       "        3.70836796, 11.34561785, 10.8742052 , 16.8113813 ,  8.366579  ,\n",
       "       24.40711141, 10.37081156,  9.66771254, 20.50241775,  9.52259818,\n",
       "        5.12029305, 16.15856161,  3.1509622 ,  5.14191199, 16.00343126,\n",
       "        4.92264921,  7.80178696, 39.99927771,  3.25028343,  9.21144879,\n",
       "       23.86564572,  9.1462229 ,  4.11124384,  3.9897346 ,  7.55704097,\n",
       "       14.45583326, 11.96585939, 11.49100071, 11.325933  , 42.80405689,\n",
       "       35.42232323, 12.12796218, 41.40291869, 12.09487874,  3.91301833,\n",
       "       45.67831269,  7.34566499, 11.89035074, 14.13003995,  8.41789326,\n",
       "       23.65213933, 11.50956418, 18.88017917, 28.35560866, 32.13587807,\n",
       "        8.4516757 ,  5.32168342, 18.79325184, 28.47475532,  7.73293693,\n",
       "        1.62119413,  2.70421741, 11.81378444, 17.67395779,  2.53154281,\n",
       "        4.07875916,  6.73168948,  9.91231856, 11.30872698, 14.04016219,\n",
       "       18.63151868, 14.90542744,  8.75137967, 10.92415139, 16.13996496])"
      ]
     },
     "execution_count": 10,
     "metadata": {},
     "output_type": "execute_result"
    }
   ],
   "source": [
    "df['MSE'][0]"
   ]
  },
  {
   "cell_type": "code",
   "execution_count": 3,
   "metadata": {},
   "outputs": [
    {
     "name": "stdout",
     "output_type": "stream",
     "text": [
      "Gaussian\n",
      "MAE: 5.820141 $\\pm$ 8.003367\n",
      "MSE: 0.097287 $\\pm$ 0.256603\n",
      "[%]: 6.278246 $\\pm$ 0.0834490269606838\n",
      "Div: 0.321669 $\\pm$ 0.42754012346358966\n",
      "Curl: 1.252383 $\\pm$ 3.242056911234517\n"
     ]
    }
   ],
   "source": [
    "# def eval_test(name, timestamp, exp='foo'):\n",
    "    # output_path = Path(__file__).parent.resolve() \\\n",
    "        # / 'checkpoints' / exp / name / 'test'\n",
    "df = pd.read_pickle(f'1_94_230531_153936_gaussian.p')\n",
    "\n",
    "print('Gaussian')\n",
    "print(f'MAE: {df[\"loss\"].mean()*1e3:.6f}' + ' $\\pm$ '+f'{df[\"loss\"].std()*1e3:.6f}')\n",
    "print(f'MSE: {(df[\"loss\"]**2).mean()*1e3:.6f}' + ' $\\pm$ '+f'{(df[\"loss\"]**2).std()*1e3:.6f}')\n",
    "print(f'[%]: {(df[\"loss_pct\"]*100).mean():.6f}' + ' $\\pm$ '+f'{df[\"loss_pct\"].std()}')\n",
    "print(f'Div: {df[\"div\"].mean()*1e3:.6f}' + ' $\\pm$ '+f'{df[\"div\"].std()*1e3}')\n",
    "print(f'Curl: {df[\"curl\"].mean()*1e6:.6f}' + ' $\\pm$ '+f'{df[\"curl\"].std()*1e6}')"
   ]
  },
  {
   "cell_type": "code",
   "execution_count": 7,
   "metadata": {},
   "outputs": [
    {
     "name": "stdout",
     "output_type": "stream",
     "text": [
      "Spline\n",
      "MAE: 2.620633 $\\pm$ 3.304077\n",
      "MSE: 0.017675 $\\pm$ 0.038510\n",
      "[%]: 1.672426 $\\pm$ 0.020920661178375828\n",
      "Div: 0.198639 $\\pm$ 0.2490005558392643\n",
      "Curl: 0.637676 $\\pm$ 1.180442313460463\n"
     ]
    }
   ],
   "source": [
    "# def eval_test(name, timestamp, exp='foo'):\n",
    "    # output_path = Path(__file__).parent.resolve() \\\n",
    "        # / 'checkpoints' / exp / name / 'test'\n",
    "df = pd.read_pickle(f'1_94_230609_125429_spline.p')\n",
    "\n",
    "print('Spline')\n",
    "print(f'MAE: {df[\"loss\"].mean()*1e3:.6f}' + ' $\\pm$ '+f'{df[\"loss\"].std()*1e3:.6f}')\n",
    "print(f'MSE: {(df[\"loss\"]**2).mean()*1e3:.6f}' + ' $\\pm$ '+f'{(df[\"loss\"]**2).std()*1e3:.6f}')\n",
    "print(f'[%]: {(df[\"loss_pct\"]*100).mean():.6f}' + ' $\\pm$ '+f'{df[\"loss_pct\"].std()}')\n",
    "print(f'Div: {df[\"div\"].mean()*1e3:.6f}' + ' $\\pm$ '+f'{df[\"div\"].std()*1e3}')\n",
    "print(f'Curl: {df[\"curl\"].mean()*1e6:.6f}' + ' $\\pm$ '+f'{df[\"curl\"].std()*1e6}')"
   ]
  },
  {
   "cell_type": "code",
   "execution_count": 3,
   "metadata": {},
   "outputs": [
    {
     "name": "stdout",
     "output_type": "stream",
     "text": [
      "WGAN-GP\n",
      "MAE: 3.800038 $\\pm$ 3.183355\n",
      "MSE: 0.024473 $\\pm$ 0.052777\n",
      "[%]: 3.536384 $\\pm$ 0.018864672631025314\n",
      "Div: 0.201963 $\\pm$ 0.08302568699141435\n",
      "Curl: 1.221122 $\\pm$ 1.5863895803791876\n"
     ]
    }
   ],
   "source": [
    "# def eval_test(name, timestamp, exp='foo'):\n",
    "    # output_path = Path(__file__).parent.resolve() \\\n",
    "        # / 'checkpoints' / exp / name / 'test'\n",
    "df = pd.read_pickle(f'1_94_230612_103241_wgan.p')\n",
    "\n",
    "print('WGAN-GP')\n",
    "print(f'MAE: {df[\"loss\"].mean()*1e3:.6f}' + ' $\\pm$ '+f'{df[\"loss\"].std()*1e3:.6f}')\n",
    "print(f'MSE: {(df[\"loss\"]**2).mean()*1e3:.6f}' + ' $\\pm$ '+f'{(df[\"loss\"]**2).std()*1e3:.6f}')\n",
    "print(f'[%]: {(df[\"loss_pct\"]*100).mean():.6f}' + ' $\\pm$ '+f'{df[\"loss_pct\"].std()}')\n",
    "print(f'Div: {df[\"div\"].mean()*1e3:.6f}' + ' $\\pm$ '+f'{df[\"div\"].std()*1e3}')\n",
    "print(f'Curl: {df[\"curl\"].mean()*1e6:.6f}' + ' $\\pm$ '+f'{df[\"curl\"].std()*1e6}')"
   ]
  },
  {
   "cell_type": "code",
   "execution_count": 7,
   "metadata": {},
   "outputs": [
    {
     "data": {
      "text/plain": [
       "0     [[[[0. 0. 0. 0. 0. 0. 0. 0. 0. 0. 0. 0. 0. 0. ...\n",
       "1     [[[[0. 0. 0. 0. 0. 0. 0. 0. 0. 0. 0. 0. 0. 0. ...\n",
       "2     [[[[0. 0. 0. 0. 0. 0. 0. 0. 0. 0. 0. 0. 0. 0. ...\n",
       "3     [[[[0. 0. 0. 0. 0. 0. 0. 0. 0. 0. 0. 0. 0. 0. ...\n",
       "4     [[[[0. 0. 0. 0. 0. 0. 0. 0. 0. 0. 0. 0. 0. 0. ...\n",
       "                            ...                        \n",
       "95    [[[[0. 0. 0. 0. 0. 0. 0. 0. 0. 0. 0. 0. 0. 0. ...\n",
       "96    [[[[0. 0. 0. 0. 0. 0. 0. 0. 0. 0. 0. 0. 0. 0. ...\n",
       "97    [[[[0. 0. 0. 0. 0. 0. 0. 0. 0. 0. 0. 0. 0. 0. ...\n",
       "98    [[[[0. 0. 0. 0. 0. 0. 0. 0. 0. 0. 0. 0. 0. 0. ...\n",
       "99    [[[[0. 0. 0. 0. 0. 0. 0. 0. 0. 0. 0. 0. 0. 0. ...\n",
       "Name: MAE, Length: 100, dtype: object"
      ]
     },
     "execution_count": 7,
     "metadata": {},
     "output_type": "execute_result"
    }
   ],
   "source": [
    "df2 = pd.read_pickle(f'1_94_230612_103241_wgan_2.p')"
   ]
  },
  {
   "cell_type": "code",
   "execution_count": 6,
   "metadata": {},
   "outputs": [
    {
     "name": "stdout",
     "output_type": "stream",
     "text": [
      "WGAN-GP\n"
     ]
    },
    {
     "ename": "TypeError",
     "evalue": "unsupported format string passed to numpy.ndarray.__format__",
     "output_type": "error",
     "traceback": [
      "\u001b[1;31m---------------------------------------------------------------------------\u001b[0m",
      "\u001b[1;31mTypeError\u001b[0m                                 Traceback (most recent call last)",
      "Cell \u001b[1;32mIn[6], line 4\u001b[0m\n\u001b[0;32m      1\u001b[0m df \u001b[39m=\u001b[39m df2\n\u001b[0;32m      3\u001b[0m \u001b[39mprint\u001b[39m(\u001b[39m'\u001b[39m\u001b[39mWGAN-GP\u001b[39m\u001b[39m'\u001b[39m)\n\u001b[1;32m----> 4\u001b[0m \u001b[39mprint\u001b[39m(\u001b[39mf\u001b[39m\u001b[39m'\u001b[39m\u001b[39mMAE: \u001b[39m\u001b[39m{\u001b[39;00mdf[\u001b[39m\"\u001b[39m\u001b[39mMAE\u001b[39m\u001b[39m\"\u001b[39m]\u001b[39m.\u001b[39mmean()\u001b[39m*\u001b[39m\u001b[39m1e3\u001b[39m\u001b[39m:\u001b[39;00m\u001b[39m.6f\u001b[39m\u001b[39m}\u001b[39;00m\u001b[39m'\u001b[39m \u001b[39m+\u001b[39m \u001b[39m'\u001b[39m\u001b[39m $\u001b[39m\u001b[39m\\\u001b[39m\u001b[39mpm$ \u001b[39m\u001b[39m'\u001b[39m\u001b[39m+\u001b[39m\u001b[39mf\u001b[39m\u001b[39m'\u001b[39m\u001b[39m{\u001b[39;00mdf[\u001b[39m\"\u001b[39m\u001b[39mMAE\u001b[39m\u001b[39m\"\u001b[39m]\u001b[39m.\u001b[39mstd()\u001b[39m*\u001b[39m\u001b[39m1e3\u001b[39m\u001b[39m:\u001b[39;00m\u001b[39m.6f\u001b[39m\u001b[39m}\u001b[39;00m\u001b[39m'\u001b[39m)\n\u001b[0;32m      5\u001b[0m \u001b[39mprint\u001b[39m(\u001b[39mf\u001b[39m\u001b[39m'\u001b[39m\u001b[39mMSE: \u001b[39m\u001b[39m{\u001b[39;00m(df[\u001b[39m\"\u001b[39m\u001b[39mMAE\u001b[39m\u001b[39m\"\u001b[39m]\u001b[39m*\u001b[39m\u001b[39m*\u001b[39m\u001b[39m2\u001b[39m)\u001b[39m.\u001b[39mmean()\u001b[39m*\u001b[39m\u001b[39m1e3\u001b[39m\u001b[39m:\u001b[39;00m\u001b[39m.6f\u001b[39m\u001b[39m}\u001b[39;00m\u001b[39m'\u001b[39m \u001b[39m+\u001b[39m \u001b[39m'\u001b[39m\u001b[39m $\u001b[39m\u001b[39m\\\u001b[39m\u001b[39mpm$ \u001b[39m\u001b[39m'\u001b[39m\u001b[39m+\u001b[39m\u001b[39mf\u001b[39m\u001b[39m'\u001b[39m\u001b[39m{\u001b[39;00m(df[\u001b[39m\"\u001b[39m\u001b[39mMAE\u001b[39m\u001b[39m\"\u001b[39m]\u001b[39m*\u001b[39m\u001b[39m*\u001b[39m\u001b[39m2\u001b[39m)\u001b[39m.\u001b[39mstd()\u001b[39m*\u001b[39m\u001b[39m1e3\u001b[39m\u001b[39m:\u001b[39;00m\u001b[39m.6f\u001b[39m\u001b[39m}\u001b[39;00m\u001b[39m'\u001b[39m)\n\u001b[0;32m      6\u001b[0m \u001b[39mprint\u001b[39m(\u001b[39mf\u001b[39m\u001b[39m'\u001b[39m\u001b[39m[%]: \u001b[39m\u001b[39m{\u001b[39;00m(df[\u001b[39m\"\u001b[39m\u001b[39mMAPE\u001b[39m\u001b[39m\"\u001b[39m]\u001b[39m*\u001b[39m\u001b[39m100\u001b[39m)\u001b[39m.\u001b[39mmean()\u001b[39m:\u001b[39;00m\u001b[39m.6f\u001b[39m\u001b[39m}\u001b[39;00m\u001b[39m'\u001b[39m \u001b[39m+\u001b[39m \u001b[39m'\u001b[39m\u001b[39m $\u001b[39m\u001b[39m\\\u001b[39m\u001b[39mpm$ \u001b[39m\u001b[39m'\u001b[39m\u001b[39m+\u001b[39m\u001b[39mf\u001b[39m\u001b[39m'\u001b[39m\u001b[39m{\u001b[39;00mdf[\u001b[39m\"\u001b[39m\u001b[39mMAPE\u001b[39m\u001b[39m\"\u001b[39m]\u001b[39m.\u001b[39mstd()\u001b[39m}\u001b[39;00m\u001b[39m'\u001b[39m)\n",
      "\u001b[1;31mTypeError\u001b[0m: unsupported format string passed to numpy.ndarray.__format__"
     ]
    }
   ],
   "source": [
    "df = df2\n",
    "\n",
    "print('WGAN-GP')\n",
    "print(f'MAE: {df[\"MAE\"].mean()*1e3:.6f}' + ' $\\pm$ '+f'{df[\"MAE\"].std()*1e3:.6f}')\n",
    "print(f'MSE: {(df[\"MAE\"]**2).mean()*1e3:.6f}' + ' $\\pm$ '+f'{(df[\"MAE\"]**2).std()*1e3:.6f}')\n",
    "print(f'[%]: {(df[\"MAPE\"]*100).mean():.6f}' + ' $\\pm$ '+f'{df[\"MAPE\"].std()}')\n",
    "print(f'Div: {df[\"div\"].mean()*1e3:.6f}' + ' $\\pm$ '+f'{df[\"div\"].std()*1e3}')\n",
    "print(f'Curl: {df[\"curl\"].mean()*1e6:.6f}' + ' $\\pm$ '+f'{df[\"curl\"].std()*1e6}')"
   ]
  },
  {
   "cell_type": "code",
   "execution_count": 20,
   "metadata": {},
   "outputs": [
    {
     "data": {
      "text/html": [
       "<div>\n",
       "<style scoped>\n",
       "    .dataframe tbody tr th:only-of-type {\n",
       "        vertical-align: middle;\n",
       "    }\n",
       "\n",
       "    .dataframe tbody tr th {\n",
       "        vertical-align: top;\n",
       "    }\n",
       "\n",
       "    .dataframe thead th {\n",
       "        text-align: right;\n",
       "    }\n",
       "</style>\n",
       "<table border=\"1\" class=\"dataframe\">\n",
       "  <thead>\n",
       "    <tr style=\"text-align: right;\">\n",
       "      <th></th>\n",
       "      <th>i</th>\n",
       "      <th>j</th>\n",
       "      <th>d_h</th>\n",
       "      <th>d_w</th>\n",
       "      <th>err</th>\n",
       "      <th>err_pct</th>\n",
       "    </tr>\n",
       "  </thead>\n",
       "  <tbody>\n",
       "    <tr>\n",
       "      <th>0</th>\n",
       "      <td>0</td>\n",
       "      <td>0</td>\n",
       "      <td>132</td>\n",
       "      <td>44</td>\n",
       "      <td>0.0</td>\n",
       "      <td>0.0</td>\n",
       "    </tr>\n",
       "    <tr>\n",
       "      <th>1</th>\n",
       "      <td>0</td>\n",
       "      <td>1</td>\n",
       "      <td>132</td>\n",
       "      <td>43</td>\n",
       "      <td>0.0</td>\n",
       "      <td>0.0</td>\n",
       "    </tr>\n",
       "    <tr>\n",
       "      <th>2</th>\n",
       "      <td>0</td>\n",
       "      <td>2</td>\n",
       "      <td>132</td>\n",
       "      <td>42</td>\n",
       "      <td>0.0</td>\n",
       "      <td>0.0</td>\n",
       "    </tr>\n",
       "    <tr>\n",
       "      <th>3</th>\n",
       "      <td>0</td>\n",
       "      <td>3</td>\n",
       "      <td>132</td>\n",
       "      <td>41</td>\n",
       "      <td>0.0</td>\n",
       "      <td>0.0</td>\n",
       "    </tr>\n",
       "    <tr>\n",
       "      <th>4</th>\n",
       "      <td>0</td>\n",
       "      <td>4</td>\n",
       "      <td>132</td>\n",
       "      <td>40</td>\n",
       "      <td>0.0</td>\n",
       "      <td>0.0</td>\n",
       "    </tr>\n",
       "    <tr>\n",
       "      <th>...</th>\n",
       "      <td>...</td>\n",
       "      <td>...</td>\n",
       "      <td>...</td>\n",
       "      <td>...</td>\n",
       "      <td>...</td>\n",
       "      <td>...</td>\n",
       "    </tr>\n",
       "    <tr>\n",
       "      <th>921595</th>\n",
       "      <td>95</td>\n",
       "      <td>91</td>\n",
       "      <td>56</td>\n",
       "      <td>39</td>\n",
       "      <td>0.0</td>\n",
       "      <td>0.0</td>\n",
       "    </tr>\n",
       "    <tr>\n",
       "      <th>921596</th>\n",
       "      <td>95</td>\n",
       "      <td>92</td>\n",
       "      <td>56</td>\n",
       "      <td>38</td>\n",
       "      <td>0.0</td>\n",
       "      <td>0.0</td>\n",
       "    </tr>\n",
       "    <tr>\n",
       "      <th>921597</th>\n",
       "      <td>95</td>\n",
       "      <td>93</td>\n",
       "      <td>56</td>\n",
       "      <td>37</td>\n",
       "      <td>0.0</td>\n",
       "      <td>0.0</td>\n",
       "    </tr>\n",
       "    <tr>\n",
       "      <th>921598</th>\n",
       "      <td>95</td>\n",
       "      <td>94</td>\n",
       "      <td>56</td>\n",
       "      <td>36</td>\n",
       "      <td>0.0</td>\n",
       "      <td>0.0</td>\n",
       "    </tr>\n",
       "    <tr>\n",
       "      <th>921599</th>\n",
       "      <td>95</td>\n",
       "      <td>95</td>\n",
       "      <td>56</td>\n",
       "      <td>35</td>\n",
       "      <td>0.0</td>\n",
       "      <td>0.0</td>\n",
       "    </tr>\n",
       "  </tbody>\n",
       "</table>\n",
       "<p>921600 rows × 6 columns</p>\n",
       "</div>"
      ],
      "text/plain": [
       "         i   j  d_h d_w  err  err_pct\n",
       "0        0   0  132  44  0.0      0.0\n",
       "1        0   1  132  43  0.0      0.0\n",
       "2        0   2  132  42  0.0      0.0\n",
       "3        0   3  132  41  0.0      0.0\n",
       "4        0   4  132  40  0.0      0.0\n",
       "...     ..  ..  ...  ..  ...      ...\n",
       "921595  95  91   56  39  0.0      0.0\n",
       "921596  95  92   56  38  0.0      0.0\n",
       "921597  95  93   56  37  0.0      0.0\n",
       "921598  95  94   56  36  0.0      0.0\n",
       "921599  95  95   56  35  0.0      0.0\n",
       "\n",
       "[921600 rows x 6 columns]"
      ]
     },
     "execution_count": 20,
     "metadata": {},
     "output_type": "execute_result"
    }
   ],
   "source": [
    "df_px = pd.read_pickle(f'1_94_230531_152928_linear_px.p')\n",
    "\n",
    "df_px"
   ]
  },
  {
   "cell_type": "code",
   "execution_count": 19,
   "metadata": {},
   "outputs": [
    {
     "data": {
      "text/plain": [
       "[<matplotlib.lines.Line2D at 0x22b0c376470>]"
      ]
     },
     "execution_count": 19,
     "metadata": {},
     "output_type": "execute_result"
    },
    {
     "data": {
      "image/png": "[encoded data removed]",
      "text/plain": [
       "<Figure size 640x480 with 1 Axes>"
      ]
     },
     "metadata": {},
     "output_type": "display_data"
    }
   ],
   "source": [
    "plt.plot(abs(df_px['d_h']-df_px['d_w']))"
   ]
  },
  {
   "cell_type": "code",
   "execution_count": null,
   "metadata": {},
   "outputs": [],
   "source": []
  }
 ],
 "metadata": {
  "kernelspec": {
   "display_name": "dgm",
   "language": "python",
   "name": "python3"
  },
  "language_info": {
   "codemirror_mode": {
    "name": "ipython",
    "version": 3
   },
   "file_extension": ".py",
   "mimetype": "text/x-python",
   "name": "python",
   "nbconvert_exporter": "python",
   "pygments_lexer": "ipython3",
   "version": "3.10.9"
  },
  "orig_nbformat": 4
 },
 "nbformat": 4,
 "nbformat_minor": 2
}
