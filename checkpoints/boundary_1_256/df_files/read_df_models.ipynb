{
 "cells": [
  {
   "cell_type": "code",
   "execution_count": 1,
   "metadata": {},
   "outputs": [],
   "source": [
    "import pandas as pd\n",
    "import numpy as np\n",
    "import matplotlib.pyplot as plt\n",
    "import matplotlib.colors as colors\n",
    "import h5py\n",
    "import pickle\n",
    "\n",
    "from pathlib import Path\n",
    "\n",
    "import datetime"
   ]
  },
  {
   "cell_type": "code",
   "execution_count": 3,
   "metadata": {},
   "outputs": [
    {
     "name": "stdout",
     "output_type": "stream",
     "text": [
      "SP\n",
      "MAE: 1.977 $\\pm$ 1.915\n",
      "[%]: 2.933 $\\pm$ 0.502\n",
      "Div: 3.087 $\\pm$ 1.362\n",
      "Curl: 4.502965497994998e-09 $\\pm$ 3.5801458898614563e-09\n"
     ]
    }
   ],
   "source": [
    "df = pd.read_pickle(f'in_94_scalar_pot_230611_191006.p')\n",
    "\n",
    "print('SP')\n",
    "print(f'MAE: {df[\"MSE\"][0].mean():.3f}' + ' $\\pm$ '+f'{df[\"MSE\"][0].std():.3f}')\n",
    "print(f'[%]: {(df[\"MAPE\"][0]).mean():.3f}' + ' $\\pm$ '+f'{df[\"MAPE\"][0].std():.3f}')\n",
    "print(f'Div: {df[\"div\"][0].mean():.3f}' + ' $\\pm$ '+f'{df[\"div\"][0].std():.3f}')\n",
    "print(f'Curl: {df[\"curl\"][0].mean()}' + ' $\\pm$ '+f'{df[\"curl\"][0].std()}')"
   ]
  },
  {
   "cell_type": "code",
   "execution_count": 3,
   "metadata": {},
   "outputs": [
    {
     "name": "stdout",
     "output_type": "stream",
     "text": [
      "CoarseG, no l1\n",
      "MSE: 0.106 $\\pm$ 0.282\n",
      "[%]: 5.138 $\\pm$ 5.059\n",
      "Div: 3.131 $\\pm$ 1.340\n",
      "Curl: 19.461 $\\pm$ 17.483\n"
     ]
    }
   ],
   "source": [
    "df = pd.read_pickle(f'in_94_coarseG_l1False_230609_170444.p')\n",
    "\n",
    "print('CoarseG, no l1')\n",
    "print(f'MSE: {df[\"MSE\"][0].mean():.3f}' + ' $\\pm$ '+f'{df[\"MSE\"][0].std():.3f}')\n",
    "print(f'[%]: {(df[\"MAPE\"][0]).mean():.3f}' + ' $\\pm$ '+f'{df[\"MAPE\"][0].std():.3f}')\n",
    "print(f'Div: {df[\"div\"][0].mean():.3f}' + ' $\\pm$ '+f'{df[\"div\"][0].std():.3f}')\n",
    "print(f'Curl: {df[\"curl\"][0].mean():.3f}' + ' $\\pm$ '+f'{df[\"curl\"][0].std():.3f}')"
   ]
  },
  {
   "cell_type": "code",
   "execution_count": 4,
   "metadata": {},
   "outputs": [
    {
     "name": "stdout",
     "output_type": "stream",
     "text": [
      "No coarseG, yes l1\n",
      "MAE: 0.079 $\\pm$ 0.214\n",
      "[%]: 5.082 $\\pm$ 5.799\n",
      "Div: 2.278 $\\pm$ 1.149\n",
      "Curl: 2.878 $\\pm$ 2.069\n"
     ]
    }
   ],
   "source": [
    "df = pd.read_pickle(f'in_94_l1_230609_170453.p')\n",
    "\n",
    "print('No coarseG, yes l1')\n",
    "print(f'MAE: {df[\"MSE\"][0].mean():.3f}' + ' $\\pm$ '+f'{df[\"MSE\"][0].std():.3f}')\n",
    "print(f'[%]: {(df[\"MAPE\"][0]).mean():.3f}' + ' $\\pm$ '+f'{df[\"MAPE\"][0].std():.3f}')\n",
    "print(f'Div: {df[\"div\"][0].mean():.3f}' + ' $\\pm$ '+f'{df[\"div\"][0].std():.3f}')\n",
    "print(f'Curl: {df[\"curl\"][0].mean():.3f}' + ' $\\pm$ '+f'{df[\"curl\"][0].std():.3f}')"
   ]
  },
  {
   "cell_type": "code",
   "execution_count": 5,
   "metadata": {},
   "outputs": [
    {
     "name": "stdout",
     "output_type": "stream",
     "text": [
      "No coraseG, no l1\n",
      "MAE: 0.122 $\\pm$ 0.317\n",
      "[%]: 5.569 $\\pm$ 4.791\n",
      "Div: 2.108 $\\pm$ 1.237\n",
      "Curl: 5.721 $\\pm$ 5.555\n"
     ]
    }
   ],
   "source": [
    "df = pd.read_pickle(f'in_94_lightweight_230609_170501.p')\n",
    "\n",
    "print('No coraseG, no l1')\n",
    "print(f'MAE: {df[\"MSE\"][0].mean():.3f}' + ' $\\pm$ '+f'{df[\"MSE\"][0].std():.3f}')\n",
    "print(f'[%]: {(df[\"MAPE\"][0]).mean():.3f}' + ' $\\pm$ '+f'{df[\"MAPE\"][0].std():.3f}')\n",
    "print(f'Div: {df[\"div\"][0].mean():.3f}' + ' $\\pm$ '+f'{df[\"div\"][0].std():.3f}')\n",
    "print(f'Curl: {df[\"curl\"][0].mean():.3f}' + ' $\\pm$ '+f'{df[\"curl\"][0].std():.3f}')"
   ]
  },
  {
   "cell_type": "code",
   "execution_count": null,
   "metadata": {},
   "outputs": [],
   "source": []
  },
  {
   "cell_type": "code",
   "execution_count": null,
   "metadata": {},
   "outputs": [],
   "source": []
  }
 ],
 "metadata": {
  "kernelspec": {
   "display_name": "dgm",
   "language": "python",
   "name": "python3"
  },
  "language_info": {
   "codemirror_mode": {
    "name": "ipython",
    "version": 3
   },
   "file_extension": ".py",
   "mimetype": "text/x-python",
   "name": "python",
   "nbconvert_exporter": "python",
   "pygments_lexer": "ipython3",
   "version": "3.10.9"
  },
  "orig_nbformat": 4
 },
 "nbformat": 4,
 "nbformat_minor": 2
}
